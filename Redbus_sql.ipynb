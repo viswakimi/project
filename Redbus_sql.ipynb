{
 "cells": [
  {
   "cell_type": "code",
   "execution_count": 11,
   "id": "764c1427-0fb3-4d4b-93c1-976e07a2e33d",
   "metadata": {},
   "outputs": [
    {
     "name": "stdout",
     "output_type": "stream",
     "text": [
      "Defaulting to user installation because normal site-packages is not writeable\n",
      "Collecting mysql-connector-python\n",
      "  Using cached mysql_connector_python-9.1.0-cp312-cp312-win_amd64.whl.metadata (6.2 kB)\n",
      "Using cached mysql_connector_python-9.1.0-cp312-cp312-win_amd64.whl (16.1 MB)\n",
      "Installing collected packages: mysql-connector-python\n",
      "Successfully installed mysql-connector-python-9.1.0\n"
     ]
    }
   ],
   "source": [
    "!pip install mysql-connector-python\n"
   ]
  },
  {
   "cell_type": "code",
   "execution_count": 4,
   "id": "e067e0a3-58e0-49e3-af7e-11da492a29c2",
   "metadata": {},
   "outputs": [
    {
     "name": "stdout",
     "output_type": "stream",
     "text": [
      "C:\\ProgramData\\anaconda3\\python.exe\n"
     ]
    }
   ],
   "source": [
    "import sys\n",
    "print(sys.executable)\n"
   ]
  },
  {
   "cell_type": "code",
   "execution_count": 2,
   "id": "3762a1ff-c911-423f-92ef-22d7e9327509",
   "metadata": {},
   "outputs": [
    {
     "name": "stdout",
     "output_type": "stream",
     "text": [
      "Name: pandas\n",
      "Version: 2.2.2\n",
      "Summary: Powerful data structures for data analysis, time series, and statistics\n",
      "Home-page: https://pandas.pydata.org\n",
      "Author: \n",
      "Author-email: The Pandas Development Team <pandas-dev@python.org>\n",
      "License: BSD 3-Clause License\n",
      "\n",
      "Copyright (c) 2008-2011, AQR Capital Management, LLC, Lambda Foundry, Inc. and PyData Development Team\n",
      "All rights reserved.\n",
      "\n",
      "Copyright (c) 2011-2023, Open source contributors.\n",
      "\n",
      "Redistribution and use in source and binary forms, with or without\n",
      "modification, are permitted provided that the following conditions are met:\n",
      "\n",
      "* Redistributions of source code must retain the above copyright notice, this\n",
      "  list of conditions and the following disclaimer.\n",
      "\n",
      "* Redistributions in binary form must reproduce the above copyright notice,\n",
      "  this list of conditions and the following disclaimer in the documentation\n",
      "  and/or other materials provided with the distribution.\n",
      "\n",
      "* Neither the name of the copyright holder nor the names of its\n",
      "  contributors may be used to endorse or promote products derived from\n",
      "  this software without specific prior written permission.\n",
      "\n",
      "THIS SOFTWARE IS PROVIDED BY THE COPYRIGHT HOLDERS AND CONTRIBUTORS \"AS IS\"\n",
      "AND ANY EXPRESS OR IMPLIED WARRANTIES, INCLUDING, BUT NOT LIMITED TO, THE\n",
      "IMPLIED WARRANTIES OF MERCHANTABILITY AND FITNESS FOR A PARTICULAR PURPOSE ARE\n",
      "DISCLAIMED. IN NO EVENT SHALL THE COPYRIGHT HOLDER OR CONTRIBUTORS BE LIABLE\n",
      "FOR ANY DIRECT, INDIRECT, INCIDENTAL, SPECIAL, EXEMPLARY, OR CONSEQUENTIAL\n",
      "DAMAGES (INCLUDING, BUT NOT LIMITED TO, PROCUREMENT OF SUBSTITUTE GOODS OR\n",
      "SERVICES; LOSS OF USE, DATA, OR PROFITS; OR BUSINESS INTERRUPTION) HOWEVER\n",
      "CAUSED AND ON ANY THEORY OF LIABILITY, WHETHER IN CONTRACT, STRICT LIABILITY,\n",
      "OR TORT (INCLUDING NEGLIGENCE OR OTHERWISE) ARISING IN ANY WAY OUT OF THE USE\n",
      "OF THIS SOFTWARE, EVEN IF ADVISED OF THE POSSIBILITY OF SUCH DAMAGE.\n",
      "Location: C:\\ProgramData\\anaconda3\\Lib\\site-packages\n",
      "Requires: numpy, python-dateutil, pytz, tzdata\n",
      "Required-by: altair, bokeh, dask-expr, datashader, holoviews, hvplot, panel, seaborn, shap, skimpy, statsmodels, streamlit, xarray\n"
     ]
    }
   ],
   "source": [
    "!pip show pandas\n"
   ]
  },
  {
   "cell_type": "code",
   "execution_count": 1,
   "id": "04145594-5111-4f3f-bb3c-bf7c32b46a1f",
   "metadata": {},
   "outputs": [],
   "source": [
    "import pandas as pd\n",
    "import mysql.connector \n",
    "import glob\n",
    "df = pd.read_csv(\"APsrtc_bus_details1.csv\")\n",
    "df = pd.read_csv(\"Astc_bus_details.csv\")\n",
    "df = pd.read_csv(\"Bsrtc_bus_details.csv\")\n",
    "df = pd.read_csv(\"Hrtc_bus_details.csv\")\n",
    "df = pd.read_csv(\"ksrtc_bus_details1.csv\")\n",
    "df = pd.read_csv(\"Rsrtc_bus_details.csv\")\n",
    "df = pd.read_csv(\"SBsrtc_bus_details.csv\")\n",
    "df = pd.read_csv(\"Tsrtc_bus_details.csv\")\n",
    "df = pd.read_csv(\"UPsrtc_bus_details.csv\")\n",
    "df = pd.read_csv(\"WBtc_bus_details.csv\")\n",
    "df = pd.read_csv(\"Psrtc_bus_details.csv\")\n",
    "df = pd.read_csv(\"CTU_bus_details.csv\")\n",
    "# List of CSV file paths\n",
    "csv_files = [\"APsrtc_bus_details1.csv\", \"Astc_bus_details.csv\", \"Bsrtc_bus_details.csv\", \"Hrtc_bus_details.csv\", \"ksrtc_bus_details1.csv\", \n",
    "             \"Rsrtc_bus_details.csv\",\"SBsrtc_bus_details.csv\", \"Tsrtc_bus_details.csv\", \"UPsrtc_bus_details.csv\", \n",
    "             \"WBtc_bus_details.csv\", \"Psrtc_bus_details.csv\",\"CTU_bus_details.csv\"]   \n",
    "\n",
    "# Read each CSV file into a DataFrame and store it in a list\n",
    "df = [pd.read_csv(file) for file in csv_files]\n",
    "\n",
    "# Concatenate all DataFrames in the list\n",
    "combined_df = pd.concat(df, ignore_index=True)\n",
    "\n",
    "combined_df.to_csv(\"RB_bus_details.csv\", index=False)\n",
    "\n",
    "\n",
    "\n"
   ]
  },
  {
   "cell_type": "code",
   "execution_count": 1,
   "id": "11ef3222-4551-47f0-8d16-668964a0cbce",
   "metadata": {},
   "outputs": [],
   "source": [
    "import pandas as pd\n",
    "\n",
    "df = pd.read_csv(\"APsrtc_bus_details1.csv\")\n",
    "df = pd.read_csv(\"Astc_bus_details.csv\")\n",
    "df = pd.read_csv(\"Bsrtc_bus_details.csv\")\n",
    "df = pd.read_csv(\"Hrtc_bus_details.csv\")\n",
    "df = pd.read_csv(\"ksrtc_bus_details1.csv\")\n",
    "df = pd.read_csv(\"Rsrtc_bus_details.csv\")\n",
    "df = pd.read_csv(\"SBsrtc_bus_details.csv\")\n",
    "df = pd.read_csv(\"Tsrtc_bus_details.csv\")\n",
    "df = pd.read_csv(\"UPsrtc_bus_details.csv\")\n",
    "df = pd.read_csv(\"WBtc_bus_details.csv\")\n",
    "df = pd.read_csv(\"Psrtc_bus_details.csv\")\n",
    "df = pd.read_csv(\"CTU_bus_details.csv\")\n",
    "\n",
    "# List of CSV file paths and corresponding state names\n",
    "csv_files = {\n",
    "    \"APsrtc_bus_details1.csv\": \"Andhra Pradesh\",\n",
    "    \"Astc_bus_details.csv\": \"Assam\",\n",
    "    \"Bsrtc_bus_details.csv\": \"Bihar\",\n",
    "    \"Hrtc_bus_details.csv\": \"Himachal Pradesh\",\n",
    "    \"ksrtc_bus_details1.csv\": \"Kerala\",\n",
    "    \"Rsrtc_bus_details.csv\": \"Rajasthan\",\n",
    "    \"SBsrtc_bus_details.csv\": \"South Bengal\",\n",
    "    \"Tsrtc_bus_details.csv\": \"Telangana\",\n",
    "    \"UPsrtc_bus_details.csv\": \"Uttar Pradesh\",\n",
    "    \"WBtc_bus_details.csv\": \"West Bengal\",\n",
    "    \"Psrtc_bus_details.csv\": \"Punjab\",\n",
    "    \"CTU_bus_details.csv\": \"Chandigarh\"\n",
    "}\n",
    "\n",
    "# Read each CSV file into a DataFrame, add the new column, and store it in a list\n",
    "dfs = []\n",
    "for file, state in csv_files.items():\n",
    "    df = pd.read_csv(file)\n",
    "    df['states'] = state\n",
    "    dfs.append(df)\n",
    "\n",
    "# Concatenate all DataFrames in the list\n",
    "combined_df = pd.concat(dfs, ignore_index=True)\n",
    "\n",
    "# Save the updated combined DataFrame to a new CSV file\n",
    "combined_df.to_csv(\"RB_bus_details1.csv\", index=False)\n"
   ]
  },
  {
   "cell_type": "code",
   "execution_count": 3,
   "id": "d48f9786-201a-4ae2-b2c1-2e64db4373bb",
   "metadata": {},
   "outputs": [],
   "source": [
    "# combined_df.to_csv(\"RB_bus_details.csv\".csv\", index=False) \n",
    "\n",
    "path=r\"D:/files/project/RB_bus_details.csv\"\n",
    "\n",
    "combined_df.to_csv(path,index=False)"
   ]
  },
  {
   "cell_type": "code",
   "execution_count": 3,
   "id": "1a3a0219-3875-43ec-889d-ec684cc85594",
   "metadata": {},
   "outputs": [],
   "source": [
    "import pandas as pd\n",
    "df = pd.read_csv('RB_bus_details.csv')"
   ]
  },
  {
   "cell_type": "code",
   "execution_count": 9,
   "id": "e6c8859f-9eba-443b-9461-8e4cdfe6d969",
   "metadata": {},
   "outputs": [
    {
     "data": {
      "text/plain": [
       "Route_Name           0\n",
       "Route_Link           0\n",
       "Bus_Name             0\n",
       "Bus_Type             0\n",
       "Departing_Time       0\n",
       "Duration             0\n",
       "Reaching_Time        0\n",
       "Star_Rating          0\n",
       "Price                0\n",
       "Seat_Availability    0\n",
       "dtype: int64"
      ]
     },
     "execution_count": 9,
     "metadata": {},
     "output_type": "execute_result"
    }
   ],
   "source": [
    "df.isnull().sum()"
   ]
  },
  {
   "cell_type": "code",
   "execution_count": 13,
   "id": "89d591ab-80d5-48cd-9c07-ca75ba268882",
   "metadata": {},
   "outputs": [
    {
     "data": {
      "text/plain": [
       "(10805, 10)"
      ]
     },
     "execution_count": 13,
     "metadata": {},
     "output_type": "execute_result"
    }
   ],
   "source": [
    "df.shape"
   ]
  },
  {
   "cell_type": "code",
   "execution_count": 15,
   "id": "c5312ce1-6d25-48f2-93ac-493f275401d2",
   "metadata": {},
   "outputs": [
    {
     "data": {
      "text/html": [
       "<div>\n",
       "<style scoped>\n",
       "    .dataframe tbody tr th:only-of-type {\n",
       "        vertical-align: middle;\n",
       "    }\n",
       "\n",
       "    .dataframe tbody tr th {\n",
       "        vertical-align: top;\n",
       "    }\n",
       "\n",
       "    .dataframe thead th {\n",
       "        text-align: right;\n",
       "    }\n",
       "</style>\n",
       "<table border=\"1\" class=\"dataframe\">\n",
       "  <thead>\n",
       "    <tr style=\"text-align: right;\">\n",
       "      <th></th>\n",
       "      <th>Route_Name</th>\n",
       "      <th>Route_Link</th>\n",
       "      <th>Bus_Name</th>\n",
       "      <th>Bus_Type</th>\n",
       "      <th>Departing_Time</th>\n",
       "      <th>Duration</th>\n",
       "      <th>Reaching_Time</th>\n",
       "      <th>Star_Rating</th>\n",
       "      <th>Price</th>\n",
       "      <th>Seat_Availability</th>\n",
       "    </tr>\n",
       "  </thead>\n",
       "  <tbody>\n",
       "    <tr>\n",
       "      <th>0</th>\n",
       "      <td>Kakinada to Visakhapatnam</td>\n",
       "      <td>https://www.redbus.in/bus-tickets/kakinada-to-...</td>\n",
       "      <td>APSRTC - 2538</td>\n",
       "      <td>SUPER LUXURY (NON-AC, 2 + 2 PUSH BACK)</td>\n",
       "      <td>00:15</td>\n",
       "      <td>04h 00m</td>\n",
       "      <td>04:15</td>\n",
       "      <td>3.8</td>\n",
       "      <td>281.0</td>\n",
       "      <td>34 Seats available</td>\n",
       "    </tr>\n",
       "    <tr>\n",
       "      <th>1</th>\n",
       "      <td>Kakinada to Visakhapatnam</td>\n",
       "      <td>https://www.redbus.in/bus-tickets/kakinada-to-...</td>\n",
       "      <td>APSRTC - 2837</td>\n",
       "      <td>SUPER LUXURY (NON-AC, 2 + 2 PUSH BACK)</td>\n",
       "      <td>00:30</td>\n",
       "      <td>03h 00m</td>\n",
       "      <td>03:30</td>\n",
       "      <td>4.6</td>\n",
       "      <td>281.0</td>\n",
       "      <td>33 Seats available</td>\n",
       "    </tr>\n",
       "    <tr>\n",
       "      <th>2</th>\n",
       "      <td>Kakinada to Visakhapatnam</td>\n",
       "      <td>https://www.redbus.in/bus-tickets/kakinada-to-...</td>\n",
       "      <td>APSRTC - 23551</td>\n",
       "      <td>SUPER LUXURY (NON-AC, 2 + 2 PUSH BACK)</td>\n",
       "      <td>00:45</td>\n",
       "      <td>04h 00m</td>\n",
       "      <td>04:45</td>\n",
       "      <td>4.1</td>\n",
       "      <td>281.0</td>\n",
       "      <td>34 Seats available</td>\n",
       "    </tr>\n",
       "    <tr>\n",
       "      <th>3</th>\n",
       "      <td>Kakinada to Visakhapatnam</td>\n",
       "      <td>https://www.redbus.in/bus-tickets/kakinada-to-...</td>\n",
       "      <td>APSRTC - 2536</td>\n",
       "      <td>INDRA(A.C. Seater)</td>\n",
       "      <td>01:15</td>\n",
       "      <td>03h 15m</td>\n",
       "      <td>04:30</td>\n",
       "      <td>3.9</td>\n",
       "      <td>340.0</td>\n",
       "      <td>36 Seats available</td>\n",
       "    </tr>\n",
       "    <tr>\n",
       "      <th>4</th>\n",
       "      <td>Kakinada to Visakhapatnam</td>\n",
       "      <td>https://www.redbus.in/bus-tickets/kakinada-to-...</td>\n",
       "      <td>APSRTC - 23537</td>\n",
       "      <td>SUPER LUXURY (NON-AC, 2 + 2 PUSH BACK)</td>\n",
       "      <td>01:30</td>\n",
       "      <td>04h 30m</td>\n",
       "      <td>06:00</td>\n",
       "      <td>4.0</td>\n",
       "      <td>281.0</td>\n",
       "      <td>32 Seats available</td>\n",
       "    </tr>\n",
       "  </tbody>\n",
       "</table>\n",
       "</div>"
      ],
      "text/plain": [
       "                  Route_Name  \\\n",
       "0  Kakinada to Visakhapatnam   \n",
       "1  Kakinada to Visakhapatnam   \n",
       "2  Kakinada to Visakhapatnam   \n",
       "3  Kakinada to Visakhapatnam   \n",
       "4  Kakinada to Visakhapatnam   \n",
       "\n",
       "                                          Route_Link        Bus_Name  \\\n",
       "0  https://www.redbus.in/bus-tickets/kakinada-to-...   APSRTC - 2538   \n",
       "1  https://www.redbus.in/bus-tickets/kakinada-to-...   APSRTC - 2837   \n",
       "2  https://www.redbus.in/bus-tickets/kakinada-to-...  APSRTC - 23551   \n",
       "3  https://www.redbus.in/bus-tickets/kakinada-to-...   APSRTC - 2536   \n",
       "4  https://www.redbus.in/bus-tickets/kakinada-to-...  APSRTC - 23537   \n",
       "\n",
       "                                 Bus_Type Departing_Time Duration  \\\n",
       "0  SUPER LUXURY (NON-AC, 2 + 2 PUSH BACK)          00:15  04h 00m   \n",
       "1  SUPER LUXURY (NON-AC, 2 + 2 PUSH BACK)          00:30  03h 00m   \n",
       "2  SUPER LUXURY (NON-AC, 2 + 2 PUSH BACK)          00:45  04h 00m   \n",
       "3                      INDRA(A.C. Seater)          01:15  03h 15m   \n",
       "4  SUPER LUXURY (NON-AC, 2 + 2 PUSH BACK)          01:30  04h 30m   \n",
       "\n",
       "  Reaching_Time  Star_Rating  Price   Seat_Availability  \n",
       "0         04:15          3.8  281.0  34 Seats available  \n",
       "1         03:30          4.6  281.0  33 Seats available  \n",
       "2         04:45          4.1  281.0  34 Seats available  \n",
       "3         04:30          3.9  340.0  36 Seats available  \n",
       "4         06:00          4.0  281.0  32 Seats available  "
      ]
     },
     "execution_count": 15,
     "metadata": {},
     "output_type": "execute_result"
    }
   ],
   "source": [
    "df.head()"
   ]
  },
  {
   "cell_type": "code",
   "execution_count": 6,
   "id": "a330c7a5-a307-4f1e-9464-0b0188ba1688",
   "metadata": {},
   "outputs": [
    {
     "name": "stdout",
     "output_type": "stream",
     "text": [
      "CSV data loaded successfully!\n",
      "Connected to MySQL database.\n",
      "Table `bus_routes` created successfully!\n",
      "Data inserted successfully into `redbus.bus_routes\n"
     ]
    }
   ],
   "source": [
    "import pandas as pd\n",
    "import mysql.connector\n",
    "\n",
    "# Database connection details\n",
    "DB_HOST = 'localhost'\n",
    "DB_USER = 'root'\n",
    "DB_PASSWORD = 'Abcd1234'\n",
    "DB_NAME = 'redbus'\n",
    "\n",
    "# CSV file path\n",
    "CSV_FILE = 'RB_bus_details.csv'\n",
    "\n",
    "def load_data_to_mysql():\n",
    "    # Step 1: Load CSV data into a Pandas DataFrame\n",
    "    try:\n",
    "        df = pd.read_csv(CSV_FILE)\n",
    "        print(\"CSV data loaded successfully!\")\n",
    "        \n",
    "        # Clean and sanitize data\n",
    "        df['Seat_Availability'] = df['Seat_Availability'].str.extract(r'(\\d+)').astype(float)  # Extract numeric part\n",
    "        df['Star_Rating'] = pd.to_numeric(df['Star_Rating'], errors='coerce')  # Ensure numeric\n",
    "        df['Price'] = pd.to_numeric(df['Price'], errors='coerce')\n",
    "          # Convert to numeric; invalid values become NaN\n",
    "        df.fillna({'Seat_Availability': 0, 'Star_Rating': 0, 'Price': 0}, inplace=True)   # Replace NaN with default values\n",
    "    except Exception as e:\n",
    "        print(f\"Error loading or processing CSV: {e}\")\n",
    "        return\n",
    "\n",
    "    # Step 2: Connect to MySQL\n",
    "    try:\n",
    "        connection = mysql.connector.connect(\n",
    "            host=DB_HOST,\n",
    "            user=DB_USER,\n",
    "            password=DB_PASSWORD,\n",
    "            database=DB_NAME\n",
    "        )\n",
    "        cursor = connection.cursor()\n",
    "        print(\"Connected to MySQL database.\")\n",
    "    except mysql.connector.Error as err:\n",
    "        print(f\"Error connecting to MySQL: {err}\")\n",
    "        return\n",
    "\n",
    "    # Step 3: Create the table if it doesn't exist\n",
    "    try:\n",
    "        cursor.execute(f\"CREATE DATABASE IF NOT EXISTS {DB_NAME}\")\n",
    "        cursor.execute(f\"USE {DB_NAME}\")\n",
    "        cursor.execute(\"\"\"\n",
    "        CREATE TABLE IF NOT EXISTS bus_routes (\n",
    "            id INT AUTO_INCREMENT PRIMARY KEY,\n",
    "            route_name TEXT,\n",
    "            route_link TEXT,\n",
    "            busname TEXT,\n",
    "            bustype TEXT,\n",
    "            departing_time TIME,\n",
    "            duration TEXT,\n",
    "            reaching_time TIME,\n",
    "            star_rating FLOAT,\n",
    "            price DECIMAL(10, 2),\n",
    "            seats_available INT\n",
    "            \n",
    "        )\n",
    "        \"\"\")\n",
    "        print(\"Table `bus_routes` created successfully!\")\n",
    "    except mysql.connector.Error as err:\n",
    "        print(f\"Error creating table: {err}\")\n",
    "        return\n",
    "\n",
    "    # Step 4: Insert data into the table\n",
    "    try:\n",
    "        for _, row in df.iterrows():\n",
    "            sql = \"\"\"\n",
    "            INSERT INTO bus_routes (\n",
    "                Route_Name, Route_Link, BusName, BusType,\n",
    "                Departing_Time, Duration, Reaching_Time,\n",
    "                Star_Rating, Price, Seats_Available\n",
    "            )\n",
    "            VALUES (%s, %s, %s, %s, %s, %s, %s, %s, %s, %s)\n",
    "            \"\"\"\n",
    "            # Convert row to tuple\n",
    "            data = tuple(\n",
    "                None if pd.isna(value) else value for value in row\n",
    "            )\n",
    "            cursor.execute(sql, data)\n",
    "        connection.commit()\n",
    "        print(f\"Data inserted successfully into `{DB_NAME}.bus_routes\")\n",
    "    except mysql.connector.Error as err:\n",
    "        print(f\"Error inserting data: {err}\")\n",
    "    finally:\n",
    "        cursor.close()\n",
    "        connection.close()\n",
    "\n",
    "if __name__ == \"__main__\":\n",
    "    load_data_to_mysql()\n"
   ]
  },
  {
   "cell_type": "code",
   "execution_count": 13,
   "id": "69bc3f28-d3f1-415a-851d-0091996f1f8c",
   "metadata": {},
   "outputs": [
    {
     "name": "stdout",
     "output_type": "stream",
     "text": [
      "Connected to MySQL database.\n"
     ]
    }
   ],
   "source": [
    "# Step 2: Connect to MySQL\n",
    "try:\n",
    "    connection = mysql.connector.connect(\n",
    "    host=DB_HOST,\n",
    "    user=DB_USER,\n",
    "    password=DB_PASSWORD,\n",
    "    database=DB_NAME\n",
    "    )\n",
    "    cursor = connection.cursor()   \n",
    "    print(\"Connected to MySQL database.\")\n",
    "except mysql.connector.Error as err:\n",
    "    print(f\"Error connecting to MySQL: {err}\")\n",
    "   "
   ]
  },
  {
   "cell_type": "code",
   "execution_count": 15,
   "id": "53873d50-da9f-415a-8bec-b32aaab10302",
   "metadata": {},
   "outputs": [
    {
     "name": "stdout",
     "output_type": "stream",
     "text": [
      "('id', 'int', 'NO', 'PRI', None, 'auto_increment')\n",
      "('route_name', 'text', 'YES', '', None, '')\n",
      "('route_link', 'text', 'YES', '', None, '')\n",
      "('busname', 'text', 'YES', '', None, '')\n",
      "('bustype', 'text', 'YES', '', None, '')\n",
      "('departing_time', 'time', 'YES', '', None, '')\n",
      "('duration', 'text', 'YES', '', None, '')\n",
      "('reaching_time', 'time', 'YES', '', None, '')\n",
      "('star_rating', 'float', 'YES', '', None, '')\n",
      "('price', 'decimal(10,2)', 'YES', '', None, '')\n",
      "('seats_available', 'int', 'YES', '', None, '')\n"
     ]
    }
   ],
   "source": [
    "cursor.execute(\"DESCRIBE redbus.bus_routes\")\n",
    "for i in cursor:\n",
    "    print(i)"
   ]
  },
  {
   "cell_type": "code",
   "execution_count": 17,
   "id": "712ef817-47ce-475e-ab5a-1ada3c01591c",
   "metadata": {},
   "outputs": [
    {
     "name": "stdout",
     "output_type": "stream",
     "text": [
      "('Kakinada to Visakhapatnam',)\n",
      "('Kakinada to Visakhapatnam',)\n",
      "('Kakinada to Visakhapatnam',)\n",
      "('Kakinada to Visakhapatnam',)\n",
      "('Kakinada to Visakhapatnam',)\n",
      "('Kakinada to Visakhapatnam',)\n",
      "('Kakinada to Visakhapatnam',)\n",
      "('Kakinada to Visakhapatnam',)\n",
      "('Kakinada to Visakhapatnam',)\n",
      "('Kakinada to Visakhapatnam',)\n"
     ]
    }
   ],
   "source": [
    "cursor.execute(\"sELECT Route_name from redbus.bus_routes limit  10\")\n",
    "for i in cursor:\n",
    "    print(i)"
   ]
  },
  {
   "cell_type": "code",
   "execution_count": 19,
   "id": "e3f01b06-75b5-45ed-8710-c8f4649e3c85",
   "metadata": {},
   "outputs": [
    {
     "name": "stdout",
     "output_type": "stream",
     "text": [
      "(1, 'Kakinada to Visakhapatnam', 'https://www.redbus.in/bus-tickets/kakinada-to-visakhapatnam', 'APSRTC - 2538', 'SUPER LUXURY (NON-AC, 2 + 2 PUSH BACK)', datetime.timedelta(seconds=900), '04h 00m', datetime.timedelta(seconds=15300), 3.8, Decimal('281.00'), 34)\n",
      "(2, 'Kakinada to Visakhapatnam', 'https://www.redbus.in/bus-tickets/kakinada-to-visakhapatnam', 'APSRTC - 2837', 'SUPER LUXURY (NON-AC, 2 + 2 PUSH BACK)', datetime.timedelta(seconds=1800), '03h 00m', datetime.timedelta(seconds=12600), 4.6, Decimal('281.00'), 33)\n",
      "(3, 'Kakinada to Visakhapatnam', 'https://www.redbus.in/bus-tickets/kakinada-to-visakhapatnam', 'APSRTC - 23551', 'SUPER LUXURY (NON-AC, 2 + 2 PUSH BACK)', datetime.timedelta(seconds=2700), '04h 00m', datetime.timedelta(seconds=17100), 4.1, Decimal('281.00'), 34)\n",
      "(4, 'Kakinada to Visakhapatnam', 'https://www.redbus.in/bus-tickets/kakinada-to-visakhapatnam', 'APSRTC - 2536', 'INDRA(A.C. Seater)', datetime.timedelta(seconds=4500), '03h 15m', datetime.timedelta(seconds=16200), 3.9, Decimal('340.00'), 36)\n",
      "(5, 'Kakinada to Visakhapatnam', 'https://www.redbus.in/bus-tickets/kakinada-to-visakhapatnam', 'APSRTC - 23537', 'SUPER LUXURY (NON-AC, 2 + 2 PUSH BACK)', datetime.timedelta(seconds=5400), '04h 30m', datetime.timedelta(seconds=21600), 4.0, Decimal('281.00'), 32)\n",
      "(6, 'Kakinada to Visakhapatnam', 'https://www.redbus.in/bus-tickets/kakinada-to-visakhapatnam', 'APSRTC - 3712', 'SUPER LUXURY (NON-AC, 2 + 2 PUSH BACK)', datetime.timedelta(seconds=6300), '04h 10m', datetime.timedelta(seconds=21300), 3.8, Decimal('281.00'), 31)\n",
      "(7, 'Kakinada to Visakhapatnam', 'https://www.redbus.in/bus-tickets/kakinada-to-visakhapatnam', 'APSRTC - 24263', 'SUPER LUXURY (NON-AC, 2 + 2 PUSH BACK)', datetime.timedelta(seconds=7200), '03h 00m', datetime.timedelta(seconds=18000), 5.0, Decimal('281.00'), 33)\n",
      "(8, 'Kakinada to Visakhapatnam', 'https://www.redbus.in/bus-tickets/kakinada-to-visakhapatnam', 'APSRTC - 3714', 'SUPER LUXURY (NON-AC, 2 + 2 PUSH BACK)', datetime.timedelta(seconds=12300), '03h 55m', datetime.timedelta(seconds=26400), 3.8, Decimal('281.00'), 31)\n",
      "(9, 'Kakinada to Visakhapatnam', 'https://www.redbus.in/bus-tickets/kakinada-to-visakhapatnam', 'APSRTC - 2651', 'SUPER LUXURY (NON-AC, 2 + 2 PUSH BACK)', datetime.timedelta(seconds=14400), '03h 00m', datetime.timedelta(seconds=25200), 3.3, Decimal('281.00'), 34)\n",
      "(10, 'Kakinada to Visakhapatnam', 'https://www.redbus.in/bus-tickets/kakinada-to-visakhapatnam', 'APSRTC - 2653', 'SUPER LUXURY (NON-AC, 2 + 2 PUSH BACK)', datetime.timedelta(seconds=16800), '03h 00m', datetime.timedelta(seconds=27600), 4.0, Decimal('281.00'), 34)\n"
     ]
    }
   ],
   "source": [
    "cursor.execute(\"sELECT * from redbus.bus_routes limit  10\")\n",
    "for i in cursor:\n",
    "    print(i)"
   ]
  },
  {
   "cell_type": "code",
   "execution_count": 91,
   "id": "63de1015-8d28-46ce-ab25-49d7d250f978",
   "metadata": {},
   "outputs": [
    {
     "name": "stdout",
     "output_type": "stream",
     "text": [
      "('https://www.redbus.in/bus-tickets/kakinada-to-visakhapatnam',)\n",
      "('https://www.redbus.in/bus-tickets/kakinada-to-visakhapatnam',)\n",
      "('https://www.redbus.in/bus-tickets/kakinada-to-visakhapatnam',)\n",
      "('https://www.redbus.in/bus-tickets/kakinada-to-visakhapatnam',)\n",
      "('https://www.redbus.in/bus-tickets/kakinada-to-visakhapatnam',)\n",
      "('https://www.redbus.in/bus-tickets/kakinada-to-visakhapatnam',)\n",
      "('https://www.redbus.in/bus-tickets/kakinada-to-visakhapatnam',)\n",
      "('https://www.redbus.in/bus-tickets/kakinada-to-visakhapatnam',)\n",
      "('https://www.redbus.in/bus-tickets/kakinada-to-visakhapatnam',)\n",
      "('https://www.redbus.in/bus-tickets/kakinada-to-visakhapatnam',)\n"
     ]
    }
   ],
   "source": [
    "cursor.execute(\"sELECT Route_link from redbus.bus_routes limit  10\")\n",
    "for i in cursor:\n",
    "    print(i)"
   ]
  },
  {
   "cell_type": "code",
   "execution_count": 21,
   "id": "5faf2a18-73c1-4ccc-927b-6f9e0d0a3226",
   "metadata": {},
   "outputs": [
    {
     "name": "stdout",
     "output_type": "stream",
     "text": [
      "('Chittoor (Andhra Pradesh) to Bangalore', '28h 25m')\n",
      "('Chennai to Tirupati', '27h 30m')\n",
      "('Karimnagar to Hyderabad', '21h 45m')\n",
      "('Delhi to Gorakhpur (uttar pradesh)', '21h 34m')\n",
      "('Agra to Motihari', '19h 45m')\n"
     ]
    }
   ],
   "source": [
    "cursor.execute(\"SELECT Route_Name, Duration FROM redbus.bus_routes ORDER BY Duration DESC LIMIT 5\")\n",
    "for i in cursor:\n",
    "    print(i)"
   ]
  },
  {
   "cell_type": "code",
   "execution_count": null,
   "id": "458b12be-9043-4650-aa14-2b9973ce45cf",
   "metadata": {},
   "outputs": [],
   "source": []
  }
 ],
 "metadata": {
  "kernelspec": {
   "display_name": "Python 3 (ipykernel)",
   "language": "python",
   "name": "python3"
  },
  "language_info": {
   "codemirror_mode": {
    "name": "ipython",
    "version": 3
   },
   "file_extension": ".py",
   "mimetype": "text/x-python",
   "name": "python",
   "nbconvert_exporter": "python",
   "pygments_lexer": "ipython3",
   "version": "3.12.4"
  }
 },
 "nbformat": 4,
 "nbformat_minor": 5
}
